{
  "cells": [
    {
      "cell_type": "code",
      "execution_count": null,
      "metadata": {},
      "outputs": [],
      "source": [
        "import nltk\n",
        "import string\n",
        "from nltk.corpus import stopwords\n",
        "from nltk.tokenize import word_tokenize\n",
        "from nltk.stem import PorterStemmer\n",
        "from sklearn.feature_extraction.text import TfidfVectorizer\n",
        "from sklearn.metrics.pairwise import cosine_similarity\n",
        "\n",
        "nltk.download(\"punkt\")\n",
        "nltk.download(\"stopwords\")\n",
        "\n",
        "with open(\"\", \"r\") as file:\n",
        "    text_1 = file.read()\n",
        "\n",
        "with open(\"\", \"r\") as file:\n",
        "    text_2 = file.read()\n",
        "\n",
        "def preprocess_text(text):\n",
        "    text = text.lower()\n",
        "    text=\"\".join([word for word in text if word not in string.punctuation])\n",
        "    tokens = word_tokenize(text)\n",
        "    stop_words = set(stopwords.words('english'))\n",
        "    tokens = [word for word in tokens if word not in stop_words]\n",
        "    stemmer = PorterStemmer()\n",
        "    stemmed_tokens = [stemmer.stem(word) for word in tokens]\n",
        "\n",
        "    return \" \".join(stemmed_tokens)\n",
        "\n",
        "def tf_idf(all_text):\n",
        "  vectorizer = TfidfVectorizer()\n",
        "  tfidf_matrix = vectorizer.fit_transform(all_text)\n",
        "  return tfidf_matrix\n",
        "\n",
        "def cosim(tfidf_matrix):\n",
        "  cosine_sim = cosine_similarity(tfidf_matrix[0], tfidf_matrix[1])\n",
        "  return cosine_sim\n",
        "\n",
        "def plagiarismcosim(text_1, text_2):\n",
        "  preprocessed_text_1 = preprocess_text(text_1)\n",
        "  preprocessed_text_2 = preprocess_text(text_2)\n",
        "  all_text = [preprocessed_text_1, preprocessed_text_2]\n",
        "  tfidf_matrix = tf_idf(all_text)\n",
        "  result = cosim(tfidf_matrix)\n",
        "\n",
        "  if(result < 0.5):\n",
        "     print(\"Not Plagiarism\")\n",
        "     return result[0][0]\n",
        "  else:\n",
        "     print(\"Plagiarism\")\n",
        "     return result[0][0]\n",
        "\n",
        "\n",
        "print(\"Result: \" ,plagiarismcosim(text_1, text_2))"
      ]
    }
  ],
  "metadata": {
    "colab": {
      "provenance": []
    },
    "kernelspec": {
      "display_name": "base",
      "language": "python",
      "name": "python3"
    },
    "language_info": {
      "codemirror_mode": {
        "name": "ipython",
        "version": 3
      },
      "file_extension": ".py",
      "mimetype": "text/x-python",
      "name": "python",
      "nbconvert_exporter": "python",
      "pygments_lexer": "ipython3",
      "version": "3.9.13"
    }
  },
  "nbformat": 4,
  "nbformat_minor": 0
}
